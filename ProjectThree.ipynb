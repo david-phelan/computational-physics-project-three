{
 "cells": [
  {
   "cell_type": "markdown",
   "id": "bd620eeb",
   "metadata": {},
   "source": [
    "# PHYS20762 Computational Physics\n",
    "## Project 3: Monte Carlo Techniques\n",
    "### Neutron Transport and Scattering Through a Shielding Layer\n",
    "\n",
    "Author: David Phelan  \n",
    "The University of Manchester  \n",
    "Date: May 2025  \n",
    "\n",
    "---\n",
    "\n",
    "## 1. Introduction\n",
    "\n",
    "---\n",
    "\n",
    "### 1.1 Objectives\n",
    "\n"
   ]
  },
  {
   "cell_type": "markdown",
   "id": "204877b2",
   "metadata": {},
   "source": [
    "## 2. Setup & Initialization\n",
    "Before numerically solving the equations of motion, we first set up the computational environment by:  \n",
    "- Installing and importing essential libraries.  \n",
    "- Ensuring all dependencies are available before proceeding.  \n",
    "\n",
    "#### Imported Libraries\n",
    "- `numpy` – for numerical computations and array handling.  \n",
    "- `matplotlib.pyplot` – for plotting and visualizing results.  \n",
    "- `cmath` – for handling complex numbers in analytical solutions.  \n",
    "\n",
    "These libraries provide the necessary tools to implement and analyze the numerical methods effectively."
   ]
  },
  {
   "cell_type": "code",
   "execution_count": null,
   "id": "c2aa27f2",
   "metadata": {},
   "outputs": [],
   "source": [
    "# Install required packages (only run this (once) if needed)\n",
    "%pip install numpy\n",
    "%pip install matplotlib\n",
    "%matplotlib notebook"
   ]
  },
  {
   "cell_type": "code",
   "execution_count": null,
   "id": "42e69324",
   "metadata": {},
   "outputs": [],
   "source": [
    "# Import required libraries\n",
    "import numpy as np\n",
    "import matplotlib.pyplot as plt\n",
    "from mpl_toolkits.mplot3d import Axes3D\n",
    "import cmath"
   ]
  },
  {
   "cell_type": "markdown",
   "id": "43981075",
   "metadata": {},
   "source": []
  },
  {
   "cell_type": "code",
   "execution_count": null,
   "id": "dd6745b9",
   "metadata": {},
   "outputs": [],
   "source": [
    "plt.hist(np.random.uniform(0, 1, 1000), bins=20)\n",
    "plt.show()\n",
    "\n",
    "\n",
    "# Generate random data for 3D scatter plot\n",
    "x = np.random.uniform(0, 1, 1000)\n",
    "y = np.random.uniform(0, 1, 1000)\n",
    "z = np.random.uniform(0, 1, 1000)\n",
    "\n",
    "# Create a new figure and add a 3D subplot\n",
    "fig = plt.figure()\n",
    "ax = fig.add_subplot(111, projection='3d')\n",
    "\n",
    "# Plot a 3D scatter\n",
    "scatter = ax.scatter(x, y, z, c=z, cmap='viridis')\n",
    "\n",
    "# Add labels (optional)\n",
    "ax.set_xlabel('X Axis')\n",
    "ax.set_ylabel('Y Axis')\n",
    "ax.set_zlabel('Z Axis')\n",
    "\n",
    "plt.show()"
   ]
  }
 ],
 "metadata": {
  "kernelspec": {
   "display_name": "base",
   "language": "python",
   "name": "python3"
  },
  "language_info": {
   "codemirror_mode": {
    "name": "ipython",
    "version": 3
   },
   "file_extension": ".py",
   "mimetype": "text/x-python",
   "name": "python",
   "nbconvert_exporter": "python",
   "pygments_lexer": "ipython3",
   "version": "3.11.5"
  }
 },
 "nbformat": 4,
 "nbformat_minor": 5
}
