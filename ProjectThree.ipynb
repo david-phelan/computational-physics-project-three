{
 "cells": [
  {
   "cell_type": "markdown",
   "id": "bd620eeb",
   "metadata": {},
   "source": [
    "# PHYS20762 Computational Physics\n",
    "## Project 3: Monte Carlo Techniques\n",
    "### Neutron Transport and Scattering Through a Shielding Layer\n",
    "\n",
    "Author: David Phelan  \n",
    "The University of Manchester  \n",
    "Date: May 2025  \n",
    "\n",
    "---\n",
    "\n",
    "## 1. Introduction\n",
    "\n",
    "In this project, we use Monte Carlo techniques to simulate the behaviour of thermal neutrons passing through various shielding materials. The aim is to model neutron scattering, absorption, and transmission processes within slabs of water, lead, and graphite.\n",
    "\n",
    "By generating random numbers, random points in three dimensions, and implementing exponential distributions, we build up to a full neutron transport simulation. We will visualise random walks, quantify transmission, reflection, and absorption rates, and determine the characteristic attenuation lengths for different materials.\n",
    "\n",
    "### 1.1 Objectives\n",
    "\n",
    "  1. Verify the generation of uniform random numbers using `numpy.random.uniform()`.\n",
    "  2. Generate and visualise random 3D points to assess distribution properties.\n",
    "  3. Create and test an exponential random number generator.\n",
    "  4. Produce isotropic random directions and isotropic steps with exponentially distributed lengths.\n",
    "  5. Simulate neutron random walks through slabs of different materials.\n",
    "  6. Quantify neutron absorption, reflection, and transmission rates as functions of slab thickness.\n",
    "  7. Determine attenuation lengths from transmission data.\n",
    "  8. Implement and verify the Woodcock method for simulating neutron transport through two adjacent materials.\n",
    "\n",
    "Throughout the project, we aim to support the simulation with appropriate plots and discuss the numerical results, including any uncertainties."
   ]
  },
  {
   "cell_type": "markdown",
   "id": "204877b2",
   "metadata": {},
   "source": [
    "## 2. Setup & Initialisation\n",
    "\n",
    "1. Using pip to install essential libraries\n",
    "1. Importing the required libraries, functions, and types"
   ]
  },
  {
   "cell_type": "code",
   "execution_count": null,
   "id": "c2aa27f2",
   "metadata": {},
   "outputs": [],
   "source": [
    "%pip install numpy scipy plotly nbformat pandas"
   ]
  },
  {
   "cell_type": "code",
   "execution_count": null,
   "id": "42e69324",
   "metadata": {},
   "outputs": [],
   "source": [
    "import numpy as np\n",
    "import plotly.graph_objects as go\n",
    "import plotly.express as px\n",
    "from plotly.subplots import make_subplots\n",
    "from collections import Counter\n",
    "from IPython.display import display, Markdown\n",
    "import textwrap\n",
    "import time\n",
    "import math"
   ]
  },
  {
   "cell_type": "markdown",
   "id": "a5ecd8d0",
   "metadata": {},
   "source": [
    "### Random Seed for Reproducibility\n",
    "To ensure consistent and reproducible results across different runs of the notebook, we set a fixed random seed at the start of the script. This guarantees that each random number generated will follow the same sequence every time the notebook is executed (assuming each cell is executed once in order)."
   ]
  },
  {
   "cell_type": "code",
   "execution_count": null,
   "id": "c12f40a0",
   "metadata": {},
   "outputs": [],
   "source": [
    "np.random.seed(42)"
   ]
  },
  {
   "cell_type": "markdown",
   "id": "7c4ec887",
   "metadata": {},
   "source": [
    "To track the performance of the simulation, we use Python’s `time` module to measure runtime by recording the start time and immediately printing the elapsed time after execution."
   ]
  },
  {
   "cell_type": "code",
   "execution_count": null,
   "id": "9fb1f987",
   "metadata": {},
   "outputs": [],
   "source": [
    "start = time.time()"
   ]
  },
  {
   "cell_type": "markdown",
   "id": "d9ec4073",
   "metadata": {},
   "source": [
    "### Helpers\n",
    "\n",
    "`print_markdown` is a small helper function to print markdown. It's used for displaying results at various points during the project.\n",
    "\n",
    "`textwrap.dedent` is used to support the case where you use triple-quoted strings over multiple lines indented, for example:\n",
    "\n",
    "```python\n",
    "def print_list():\n",
    "    print_markdown(f\"\"\"\n",
    "    - Point 1\n",
    "    - Point 2\n",
    "    \"\"\")\n",
    "```\n",
    "\n",
    "would output:\n",
    "\n",
    "```markdown\n",
    "- Point 1\n",
    "- Point 2\n",
    "```\n",
    "\n",
    "without `textwrap.dedent`, and by including it we get the expected output:\n",
    "\n",
    "- Point 1\n",
    "- Point 2"
   ]
  },
  {
   "cell_type": "code",
   "execution_count": null,
   "id": "115f81a1",
   "metadata": {},
   "outputs": [],
   "source": [
    "def print_markdown(markdown):\n",
    "    display(Markdown(textwrap.dedent(markdown)))"
   ]
  },
  {
   "cell_type": "markdown",
   "id": "7c9d20d6",
   "metadata": {},
   "source": [
    "`plot` provides a consistent rendering experience that can be adjusted to suit the user's display. If the figures are too large or small in one dimension for your monitor, please adjust the values here."
   ]
  },
  {
   "cell_type": "code",
   "execution_count": null,
   "id": "abe359a7",
   "metadata": {},
   "outputs": [],
   "source": [
    "def plot(figure, figures=1):\n",
    "    figure.update_layout(\n",
    "        autosize=True,\n",
    "        width=(1920/2) * figures,\n",
    "        height=1080/2,\n",
    "    )\n",
    "    figure.show()\n",
    "    return figure"
   ]
  },
  {
   "cell_type": "markdown",
   "id": "08ea2043",
   "metadata": {},
   "source": [
    "`format_appropriate` is used to format numbers to an appropriate precision, given their error:"
   ]
  },
  {
   "cell_type": "code",
   "execution_count": null,
   "id": "a683c6ba",
   "metadata": {},
   "outputs": [],
   "source": [
    "\n",
    "def format_appropriate(value, error, sig=2, latex=True):\n",
    "    def round_sig(x, sig=2):\n",
    "        if x == 0:\n",
    "            return 0.0\n",
    "        else:\n",
    "            return round(x, sig - int(math.floor(math.log10(abs(x)))) - 1)\n",
    "\n",
    "    def format_sig(x, sig=2):\n",
    "        if x == 0:\n",
    "            return f\"{0:.{sig - 1}f}\"\n",
    "        else:\n",
    "            digits = sig - int(math.floor(math.log10(abs(x)))) - 1\n",
    "            return f\"{x:.{max(digits, 0)}f}\"\n",
    "\n",
    "    rounded_error = round_sig(error, sig)\n",
    "    if rounded_error == 0:\n",
    "        return f\"{value}\", f\"{rounded_error}\"\n",
    "\n",
    "    decimal_places = -int(math.floor(math.log10(abs(rounded_error)))) + (sig - 1)\n",
    "    rounded_value = round(value, decimal_places)\n",
    "    if latex:\n",
    "        return f\"${rounded_value:.{decimal_places}f} \\\\pm {format_sig(rounded_error, sig)}$\"\n",
    "    return f\"{rounded_value:.{decimal_places}f} ± {format_sig(rounded_error, sig)}\"\n",
    "\n"
   ]
  },
  {
   "cell_type": "markdown",
   "id": "43981075",
   "metadata": {},
   "source": [
    "## 3. Simulation Classes\n",
    "\n",
    "To manage the material properties and slab geometries systematically, we define two classes: `Material` and `Slab`.\n",
    "\n",
    "### `Material` Class\n",
    "\n",
    "The `Material` class encapsulates the physical properties needed to simulate neutron interactions, including:\n",
    "\n",
    "- **Scattering cross-section** ($σ_s$)\n",
    "- **Absorption cross-section** ($σ_a$)\n",
    "- **Total cross-section** (sum of scattering and absorption)\n",
    "- **Absorption probability**\n",
    "\n",
    "It also includes a `construct_from_microscopic_properties` method to conveniently calculate macroscopic cross-sections based on:\n",
    "\n",
    "- `density` $\\rho$\n",
    "- `molar_mass` $M$\n",
    "- Microscopic cross-sections (given in barns, converted to ${cm}^2$)\n",
    "\n",
    "This design improves clarity and avoids recalculating these properties throughout the notebook."
   ]
  },
  {
   "cell_type": "code",
   "execution_count": null,
   "id": "433d9858",
   "metadata": {},
   "outputs": [],
   "source": [
    "class Material:\n",
    "    BARN_TO_CM2 = 1e-24  # cm²\n",
    "    AVOGADRO_CONSTANT = 6.02214076e23  # 1/mol\n",
    "\n",
    "    def __init__(self, name, scattering_cross_section, absorption_cross_section):\n",
    "        self.name = name\n",
    "        self.scattering_cross_section = scattering_cross_section\n",
    "        self.absorption_cross_section = absorption_cross_section\n",
    "        self.total_cross_section = scattering_cross_section + absorption_cross_section\n",
    "        self.absorption_probability = absorption_cross_section / self.total_cross_section if self.total_cross_section > 0 else 0\n",
    "\n",
    "    @staticmethod\n",
    "    def construct_from_microscopic_properties(name, sigma_a, sigma_s, density, molar_mass):\n",
    "        number_density = Material.AVOGADRO_CONSTANT * density / molar_mass\n",
    "        \n",
    "\n",
    "        return Material(\n",
    "            name,\n",
    "            number_density * sigma_s * Material.BARN_TO_CM2,\n",
    "            number_density * sigma_a * Material.BARN_TO_CM2\n",
    "        )"
   ]
  },
  {
   "cell_type": "markdown",
   "id": "7ef2a16e",
   "metadata": {},
   "source": [
    "### `Slab` Class\n",
    "\n",
    "The `Slab` class represents a slab of shielding material, characterised by:\n",
    "\n",
    "- A `Material` object (e.g., water, lead, graphite)\n",
    "- A `width` (thickness $L$) through which neutrons travel\n",
    "\n",
    "By creating a separate `Slab` class, we make the simulation modular, allowing us to easily vary material type and slab thickness during experiments."
   ]
  },
  {
   "cell_type": "code",
   "execution_count": null,
   "id": "84a47e37",
   "metadata": {},
   "outputs": [],
   "source": [
    "class Slab:\n",
    "    def __init__(self, material, width):\n",
    "        self.material = material\n",
    "        self.width = width"
   ]
  },
  {
   "cell_type": "markdown",
   "id": "21f3263d",
   "metadata": {},
   "source": [
    "### Initialisation of Materials\n",
    "\n",
    "We instantiate the following materials using their known physical properties:"
   ]
  },
  {
   "cell_type": "code",
   "execution_count": null,
   "id": "6ff12439",
   "metadata": {},
   "outputs": [],
   "source": [
    "water = Material.construct_from_microscopic_properties(\n",
    "    \"Water\", 0.6652, 103.0, 1.0, 18.0153)\n",
    "\n",
    "lead = Material.construct_from_microscopic_properties(\n",
    "    \"Lead\", 0.158, 11.221, 11.35, 207.2)\n",
    "\n",
    "graphite = Material.construct_from_microscopic_properties(\n",
    "    \"Graphite\", 0.0045, 4.74, 1.67, 12.011)\n",
    "\n",
    "materials = [water, lead, graphite]"
   ]
  },
  {
   "cell_type": "markdown",
   "id": "6be4ed57",
   "metadata": {},
   "source": [
    "Each material's macroscopic properties are now readily accessible for subsequent neutron transport simulations."
   ]
  },
  {
   "cell_type": "markdown",
   "id": "8509d379",
   "metadata": {},
   "source": [
    "---\n",
    "\n",
    "## 4. Testing Random Number Generators\n",
    "\n",
    "### 4.1 Uniform Random Number Generator (`numpy.random.uniform`)\n",
    "\n",
    "We first test Python's built-in uniform random number generator, `numpy.random.uniform()`. \n",
    "In one dimension, a uniform random generator should produce a flat probability density between 0 and 1. \n",
    "In three dimensions, random (x, y, z) points should fill the space evenly without any clustering, streaks, or artefacts. \n",
    "We visualise the results using a histogram of random values and a 3D scatter plot."
   ]
  },
  {
   "cell_type": "code",
   "execution_count": null,
   "id": "dd6745b9",
   "metadata": {},
   "outputs": [],
   "source": [
    "def test_random_number_generator():\n",
    "    x = np.random.uniform(0, 1, 1000)\n",
    "    y = np.random.uniform(0, 1, 1000)\n",
    "    z = np.random.uniform(0, 1, 1000)\n",
    "\n",
    "    fig = make_subplots(\n",
    "        rows=1, cols=2,\n",
    "        specs=[[{'type': 'xy'}, {'type': 'scene'}]],\n",
    "        subplot_titles=(\"Histogram (Uniform)\", \"3D Scatter (Uniform)\")\n",
    "    )\n",
    "\n",
    "    fig.add_trace(\n",
    "        go.Histogram(x=x, nbinsx=20, name=\"Uniform Histogram\"),\n",
    "        row=1, col=1\n",
    "    )\n",
    "\n",
    "    fig.add_trace(\n",
    "        go.Scatter3d(\n",
    "            x=x, y=y, z=z,\n",
    "            mode='markers',\n",
    "            marker=dict(size=2),\n",
    "            name=\"Uniform 3D Points\"\n",
    "        ),\n",
    "        row=1, col=2\n",
    "    )\n",
    "\n",
    "    plot(fig, figures=2)\n",
    "\n",
    "test_random_number_generator()"
   ]
  },
  {
   "cell_type": "markdown",
   "id": "41d08826",
   "metadata": {},
   "source": [
    "### 4.2 Biased Random Number Generator (`RandSSP`)\n",
    "\n",
    "Compare the results above to the same plots using a flawed random number generator, `RandSSP`, which is known to introduce bias into random samples.\n",
    "Such flaws can lead to visible structure in the generated points, such as banding or clustering, which should not occur for truly random distributions."
   ]
  },
  {
   "cell_type": "code",
   "execution_count": null,
   "id": "d12843c9",
   "metadata": {},
   "outputs": [],
   "source": [
    "class RandSSP:\n",
    "    def __init__(self, seed=123456789):\n",
    "        self.m = 2**31\n",
    "        self.a = 2**16 + 3\n",
    "        self.c = 0\n",
    "        self.x = seed\n",
    "\n",
    "    def generate(self, p, q):\n",
    "        r = np.zeros((p, q))\n",
    "        for l in range(q):\n",
    "            for k in range(p):\n",
    "                self.x = (self.a * self.x + self.c) % self.m\n",
    "                r[k, l] = self.x / self.m\n",
    "        return r"
   ]
  },
  {
   "cell_type": "code",
   "execution_count": null,
   "id": "e9b1dd5d",
   "metadata": {},
   "outputs": [],
   "source": [
    "def test_random_number_generator():\n",
    "    r = RandSSP().generate(3, 1500)\n",
    "    x, y, z = r[0, :], r[1, :], r[2, :]\n",
    "\n",
    "    fig = make_subplots(\n",
    "        rows=1, cols=2,\n",
    "        specs=[[{'type': 'xy'}, {'type': 'scene'}]],\n",
    "        subplot_titles=(\"Histogram (Non-Uniform)\", \"3D Scatter (Non-Uniform)\")\n",
    "    )\n",
    "\n",
    "    fig.add_trace(\n",
    "        go.Histogram(x=x, nbinsx=20, name=\"Non-Uniform Histogram\"),\n",
    "        row=1, col=1\n",
    "    )\n",
    "\n",
    "    fig.add_trace(\n",
    "        go.Scatter3d(\n",
    "            x=x, y=y, z=z,\n",
    "            mode='markers',\n",
    "            marker=dict(size=2),\n",
    "            name=\"Non-Uniform 3D Points\"\n",
    "        ),\n",
    "        row=1, col=2\n",
    "    )\n",
    "\n",
    "    plot(fig, figures=2)\n",
    "\n",
    "test_random_number_generator()"
   ]
  },
  {
   "cell_type": "markdown",
   "id": "94eaa255",
   "metadata": {},
   "source": [
    "The `RandSSP` generator produces clear evidence of bias. With the 2D histogram it is difficult to see the bias, but plotting the values in 3 dimensions reveals points aligned in planes, highlighting structural artefacts."
   ]
  },
  {
   "cell_type": "markdown",
   "id": "63b94d49",
   "metadata": {},
   "source": [
    "## 5 Penetration Depths (Excluding Scattering)\n",
    "\n",
    "We begin by simulating neutron penetration depths into various materials, assuming **pure absorption** with **no scattering**. In this simplified model, each neutron travels in a straight line and is absorbed at a random depth determined by the material's **macroscopic absorption cross section**, $\\Sigma_a$.\n",
    "\n",
    "The probability distribution for the depth $x$ at which a neutron is absorbed follows an exponential decay:\n",
    "\n",
    "$$P(x) = \\Sigma_a e^{-\\Sigma_a x}$$\n",
    "\n",
    "This means the number of neutrons surviving at least a distance $x$ (the **survival function**) decreases exponentially.\n",
    "\n",
    "To sample from this distribution, we generate a uniform random number $r \\in (0, 1)$ and apply the transformation:\n",
    "\n",
    "$$x = \\frac{-\\ln r}{\\Sigma_a}$$\n",
    "\n",
    "This yields an exponentially distributed set of penetration depths.\n",
    "\n",
    "#### Histogram-Based Simulation\n",
    "\n",
    "We repeated this process for 10,000 neutrons per trial and construct a histogram of absorption depths. To reduce statistical noise, we run 10 independent simulations and compute the **mean and standard deviation** of the binned survival function across those trials.\n",
    "\n",
    "These uncertainties are shown as error bars in the plots and represent the empirical standard deviation of each bin's neutron count, normalised by bin width to yield the probability density function. This method, while more computationally expensive than analytic formulas, provides a reproducible and robust estimate of variability without relying on distributional assumptions.\n",
    "\n",
    "An alternative method — which is commonly used in similar contexts — would be to apply binomial or Gaussian error propagation formulas based on the number of simulated neutrons. This would significantly reduce computation time but assumes ideal statistical behaviour, which may not always capture the nuances of stochastic simulations involving random walks and boundary conditions.\n",
    "\n",
    "- **Binomial error (for fate proportions like transmission rate):**\n",
    "  $$\n",
    "  \\sigma_p = \\sqrt{ \\frac{p(1 - p)}{n} }\n",
    "  $$\n",
    "  where $p$ is the observed probability (e.g. fraction transmitted) and $n$ is the number of simulated neutrons.\n",
    "\n",
    "- **Gaussian error (for continuous counts or histogram bins):**\n",
    "  $$\n",
    "  \\sigma = \\sqrt{N}\n",
    "  $$\n",
    "  where $N$ is the number of counts in the bin.\n",
    "\n",
    "These formulas provide quick, first-principles error estimates and are valid when the underlying assumptions hold. However, in simulations involving random walks with termination conditions and geometry-dependent behaviour, empirically measured uncertainties may offer a more faithful representation of variability.\n",
    "\n",
    "An example implementation of the binomial error is shown below.\n",
    "\n",
    "```python\n",
    "def binomial_standard_error(probability, trials):\n",
    "    return np.sqrt(probability * (1 - probability) / trials)\n",
    "```"
   ]
  },
  {
   "cell_type": "markdown",
   "id": "fa2dc1b3",
   "metadata": {},
   "source": [
    "### 5.1 Computing Simulations\n",
    "\n",
    "`transform_and_fit` estimates the attenuation length $\\lambda$ by taking the natural logarithm of the mean neutron counts per bin, linearising the function into the form $y = mx + c$:\n",
    "\n",
    "$$\\ln N(x) = -\\frac{x}{\\lambda} + \\ln N_0$$\n",
    "\n",
    "where:\n",
    "\n",
    "- $y = \\ln N(x)$\n",
    "- $x$ is the depth\n",
    "- $m = -1 / \\lambda$\n",
    "- $c = \\ln N_0$\n",
    "\n",
    "We fit this line using weighted least squares, with weights given by the inverse of the relative uncertainty in each bin. The standard deviation of each bin (divided by the mean count) gives us the uncertainty in $\\ln N(x)$ via error propagation:\n",
    "\n",
    "$$\\sigma_{\\ln N} = \\frac{\\sigma_N}{N}$$\n",
    "\n",
    "The slope and its uncertainty are then used to estimate the attenuation length and its error:\n",
    "\n",
    "$$\\lambda = -\\frac{1}{m}, \\quad \\sigma_\\lambda = \\frac{\\sigma_m}{m^2}$$"
   ]
  },
  {
   "cell_type": "code",
   "execution_count": null,
   "id": "cc2e7f78",
   "metadata": {},
   "outputs": [],
   "source": [
    "def transform_and_fit(depths, mean_counts, std_counts):\n",
    "    mask = (mean_counts > 0) & (std_counts > 0)\n",
    "    x = depths[mask]\n",
    "    y = np.log(mean_counts[mask])\n",
    "    y_err = std_counts[mask] / mean_counts[mask]\n",
    "\n",
    "    # Filter out any Inf or NaN values\n",
    "    finite_mask = np.isfinite(x) & np.isfinite(y) & np.isfinite(y_err) & (y_err > 0)\n",
    "    x = x[finite_mask]\n",
    "    y = y[finite_mask]\n",
    "    y_err = y_err[finite_mask]\n",
    "\n",
    "    if len(x) < 2:\n",
    "        raise ValueError(\"Not enough valid data points to perform fit.\")\n",
    "\n",
    "    weights = 1 / y_err\n",
    "    fit_coeffs, cov_matrix = np.polyfit(x, y, 1, w=weights, cov=True)\n",
    "\n",
    "    slope, intercept = fit_coeffs\n",
    "    slope_err = np.sqrt(cov_matrix[0, 0])\n",
    "    intercept_err = np.sqrt(cov_matrix[1, 1])\n",
    "\n",
    "    return x, y, y_err, slope, intercept, slope_err, intercept_err"
   ]
  },
  {
   "cell_type": "markdown",
   "id": "62145838",
   "metadata": {},
   "source": [
    "`compute_histograms` runs a repeated simulation of neutron absorption events for a given material, using the exponential sampling method introduced earlier, generating a histogram of **penetration depths** across multiple trials.\n",
    "\n",
    "For each trial:\n",
    "- A number of neutrons (`samples`) are simulated\n",
    "- The distances are binned into a histogram representing **counts per bin**\n",
    "\n",
    "Across all `trials`, we:\n",
    "- Average the bin counts to get the **mean number of absorptions per bin**\n",
    "- Compute the **standard deviation** across trials in each bin to estimate uncertainty\n",
    "- Convert both the mean and standard deviation into **probability densities** by dividing by the bin width\n",
    "\n",
    "The result represents the **probability per unit length** that a neutron is absorbed at a given depth — i.e., the probability density function of absorption. This can be compared directly to the theoretical exponential decay curve for validation.\n",
    "\n",
    "The function returns:\n",
    "- The bin midpoints\n",
    "- The mean and standard deviation of raw bin counts\n",
    "- The mean and standard deviation of the probability density"
   ]
  },
  {
   "cell_type": "code",
   "execution_count": null,
   "id": "725c5559",
   "metadata": {},
   "outputs": [],
   "source": [
    "def compute_histograms(samples, material, bins, trials):\n",
    "    histograms = []\n",
    "    bin_edges = None\n",
    "    all_distances = []\n",
    "\n",
    "    for _ in range(trials):\n",
    "        distances = -np.log(np.random.uniform(0, 1, samples)) / material.absorption_cross_section\n",
    "        all_distances.append(distances)\n",
    "\n",
    "    global_max = 5 / material.absorption_cross_section\n",
    "\n",
    "    for distances in all_distances:\n",
    "        counts, bin_edges = np.histogram(distances, bins=bins, range=(0, global_max))\n",
    "        histograms.append(counts)\n",
    "\n",
    "    bin_width = bin_edges[1] - bin_edges[0]\n",
    "    histograms = np.array(histograms)\n",
    "    mean_counts = np.mean(histograms, axis=0)\n",
    "    mean_density = mean_counts / bin_width\n",
    "    std_counts = np.std(histograms, axis=0)\n",
    "    std_density = std_counts / bin_width\n",
    "\n",
    "    bin_midpoints = 0.5 * (bin_edges[:-1] + bin_edges[1:])\n",
    "\n",
    "    return bin_midpoints, mean_counts, std_counts, mean_density, std_density"
   ]
  },
  {
   "cell_type": "markdown",
   "id": "3907ddf2",
   "metadata": {},
   "source": [
    "`plot_mean_histogram` is a simple function for plotting the results obtained as a histogram."
   ]
  },
  {
   "cell_type": "code",
   "execution_count": null,
   "id": "2b9cefc6",
   "metadata": {},
   "outputs": [],
   "source": [
    "def plot_mean_histogram(bin_midpoints, mean_density, std_density, material):\n",
    "    fig = go.Figure()\n",
    "\n",
    "    fig.add_trace(go.Bar(\n",
    "        x=bin_midpoints,\n",
    "        y=mean_density,\n",
    "        error_y=dict(type='data', array=std_density, visible=True),\n",
    "        name=f\"Mean histogram ({material.name})\",\n",
    "        marker=dict(color='rgba(100, 149, 237, 0.7)', line=dict(color='black', width=1))\n",
    "    ))\n",
    "\n",
    "    fig.update_layout(\n",
    "        title=f\"Mean Neutron Penetration Histogram for {material.name}\",\n",
    "        xaxis_title=\"Distance (cm)\",\n",
    "        yaxis_title=\"Neutron number density (counts per cm)\",\n",
    "        bargap=0.05,\n",
    "        legend=dict(x=0.65, y=0.98),\n",
    "        showlegend=True\n",
    "    )\n",
    "\n",
    "    plot(fig)"
   ]
  },
  {
   "cell_type": "markdown",
   "id": "5f9d531c",
   "metadata": {},
   "source": [
    "`plot_exponential_fit_with_errors` is a simple function for plotting the transformed data as a straight line fit"
   ]
  },
  {
   "cell_type": "code",
   "execution_count": null,
   "id": "5f8886a2",
   "metadata": {},
   "outputs": [],
   "source": [
    "def plot_exponential_fit_with_errors(x, y, y_err, fit_coeff, fit_intercept, material):\n",
    "    fig = go.Figure()\n",
    "\n",
    "    # Scatter plot of log(counts) with error bars\n",
    "    fig.add_trace(go.Scatter(\n",
    "        x=x,\n",
    "        y=y,\n",
    "        error_y=dict(type='data', array=y_err, visible=True),\n",
    "        mode='markers',\n",
    "        name=f\"Log binned counts ({material.name})\"\n",
    "    ))\n",
    "\n",
    "    # Fitted line\n",
    "    fitted_y = fit_coeff * x + fit_intercept\n",
    "    fig.add_trace(go.Scatter(\n",
    "        x=x,\n",
    "        y=fitted_y,\n",
    "        mode='lines',\n",
    "        name=f\"Fit: y = {fit_coeff:.3f}x + {fit_intercept:.3f}\"\n",
    "    ))\n",
    "\n",
    "    # Horizontal line at log(N0/e) = intercept - 1\n",
    "    n0_over_e_line = fit_intercept - 1\n",
    "    fig.add_trace(go.Scatter(\n",
    "        x=[0, max(x)],\n",
    "        y=[n0_over_e_line] * 2,\n",
    "        mode='lines',\n",
    "        line=dict(color='red', dash='dash'),\n",
    "        name=\"log(N₀/e) line\"\n",
    "    ))\n",
    "\n",
    "    fig.update_layout(\n",
    "        title=f\"Exponential Decay Fit for {material.name}\",\n",
    "        xaxis_title=\"Distance (cm)\",\n",
    "        yaxis_title=\"log(Number of neutrons)\",\n",
    "        legend=dict(x=0.65, y=0.98)\n",
    "    )\n",
    "\n",
    "    plot(fig)"
   ]
  },
  {
   "cell_type": "markdown",
   "id": "bb195b54",
   "metadata": {},
   "source": [
    "`print_results` is the final function for this section. It executes the other functions as required graphing the histogram and the straight line fit for water, but skipping it for the other materials (they look similar so to reduce clutter they are ommitted). It then produces a table of results for the attenuation lengths for all materials, although these are far larger than expected since we do not consider scattering as mentioned above, hence the neutrons penetrate much further when only travelling in straight lines."
   ]
  },
  {
   "cell_type": "code",
   "execution_count": null,
   "id": "aa6438fc",
   "metadata": {},
   "outputs": [],
   "source": [
    "def print_results(samples, bins, trials):\n",
    "    # Water first (for plotting)\n",
    "    bin_midpoints, mean_counts, std_counts, mean_density, std_density = compute_histograms(samples=samples, material=water, bins=bins, trials=trials)\n",
    "    plot_mean_histogram(bin_midpoints, mean_density, std_density, material=water)\n",
    "    x, y, y_err, slope, intercept, slope_err, intercept_err = transform_and_fit(bin_midpoints, mean_counts, std_counts)\n",
    "    plot_exponential_fit_with_errors(x, y, y_err, slope, intercept, material=water)\n",
    "\n",
    "    # Get results for all materials\n",
    "    materials = [water, lead, graphite]\n",
    "    data = []\n",
    "    for material in materials:\n",
    "        bin_midpoints, mean_counts, std_counts, mean_density, std_density = compute_histograms(samples=samples, material=material, bins=bins, trials=trials)\n",
    "        _, _, _, slope, _, slope_err, _ = transform_and_fit(bin_midpoints, mean_counts, std_counts)\n",
    "        data.append((material, slope, slope_err))\n",
    "\n",
    "    # Markdown output\n",
    "    markdown = \"Material | Theoretical Attenuation Length (cm) | Simulated Attenuation Length (cm)\\n\"\n",
    "    markdown += \" --- | --- | --- \\n\"\n",
    "    for material, slope, slope_err in data:\n",
    "        theoretical = 1 / material.absorption_cross_section\n",
    "        simulated = -1 / slope\n",
    "        simulated_err = slope_err / (slope ** 2)\n",
    "        result = format_appropriate(simulated, simulated_err, 2)\n",
    "        markdown += f\"{material.name} | ${theoretical:.2f}$ | {result}\\n\"\n",
    "\n",
    "    print_markdown(markdown)\n",
    "\n",
    "print_results(samples=10000, bins=50, trials=10)"
   ]
  },
  {
   "cell_type": "markdown",
   "id": "a748dc9a",
   "metadata": {},
   "source": [
    "From the table above, the results agree with the theoretical values, within their statistical errors."
   ]
  },
  {
   "cell_type": "markdown",
   "id": "93244fde",
   "metadata": {},
   "source": [
    "---\n",
    "\n",
    "## 6. Generating Isotropic Directions\n",
    "\n",
    "### 6.1 Generating Isotropic Unit Vectors\n",
    "\n",
    "To simulate random neutron directions uniformly distributed over a sphere, we generate isotropic unit vectors $\\vec{r} = x\\hat{i} + y\\hat{j} + z\\hat{k}$ satisfying $|\\vec{r}| = 1$. \n",
    "We use spherical polar coordinates $(\\theta, \\phi)$ where:\n",
    "- $\\theta$ is the polar angle, drawn from $\\cos\\theta \\sim \\text{uniform}(-1, 1)$,\n",
    "- $\\phi$ is the azimuthal angle, drawn uniformly from $[0, 2\\pi)$.\n",
    "\n",
    "This ensures points are uniformly distributed over the sphere's surface, representing isotropic scattering accurately.\n",
    "\n",
    "If we sampled $\\theta$ uniformly from $[0, \\pi]$, the resulting points would cluster near the poles due to the non-uniform area element in spherical coordinates. By sampling $\\cos\\theta$ uniformly instead, we correct for this bias and ensure an even distribution over the sphere’s surface.\n",
    "\n",
    "The resulting direction vector $\\vec{r}$ is obtained by converting the sampled angles to Cartesian coordinates:\n",
    "\n",
    "$$\n",
    "x = \\sin\\theta \\cos\\phi, \\quad y = \\sin\\theta \\sin\\phi, \\quad z = \\cos\\theta\n",
    "$$"
   ]
  },
  {
   "cell_type": "code",
   "execution_count": null,
   "id": "d55fcf5c",
   "metadata": {},
   "outputs": [],
   "source": [
    "def generate_random_unit_vector():\n",
    "\n",
    "    theta = np.arccos(np.random.uniform(-1, 1))\n",
    "    phi = np.random.uniform(0, 2*np.pi)\n",
    "\n",
    "    x = np.sin(theta) * np.cos(phi)\n",
    "    y = np.sin(theta) * np.sin(phi)\n",
    "    z = np.cos(theta)\n",
    "\n",
    "    return x, y, z"
   ]
  },
  {
   "cell_type": "markdown",
   "id": "ff803138",
   "metadata": {},
   "source": [
    "#### 6.1.1 Visualising the Isotropic Unit Vectors\n",
    "\n",
    "To verify the uniformity of the generated directions, we visualise many unit vectors in 3D space. \n",
    "A truly isotropic distribution should appear as a uniform scatter of points across the surface of a sphere."
   ]
  },
  {
   "cell_type": "code",
   "execution_count": null,
   "id": "3a5956cf",
   "metadata": {},
   "outputs": [],
   "source": [
    "def visualize_random_unit_vectors():\n",
    "    x,y,z = zip(*[(x,y,z) for x,y,z in [generate_random_unit_vector() for _ in range(10000)]])\n",
    "\n",
    "    fig = px.scatter_3d(\n",
    "        x=x, y=y, z=z, color=z,\n",
    "        labels={'x': 'X Axis', 'y': 'Y Axis', 'z': 'Z Axis'}\n",
    "    )\n",
    "    fig.update_traces(marker=dict(size=2))  # Smaller points\n",
    "    fig.update_layout(\n",
    "        title=\"3D Scatter Plot\"\n",
    "    )\n",
    "    plot(fig)\n",
    "\n",
    "visualize_random_unit_vectors()"
   ]
  },
  {
   "cell_type": "markdown",
   "id": "1f028592",
   "metadata": {},
   "source": [
    "### 6.2 Simulating Random Walks in 3D Space\n",
    "\n",
    "Using the isotropic unit vectors generated above, we now simulate random neutron paths through 3D space. \n",
    "At each step, a neutron travels in a random direction, with a step length sampled from an exponential distribution:\n",
    "\n",
    "$$P(x) = \\frac{1}{\\lambda} e^{-x/\\lambda}$$\n",
    "\n",
    "where $\\lambda$ is the mean free path determined by the material's macroscopic cross-section.\n",
    "\n",
    "After each step, the neutron scatters and is redirected in a new random direction, sampled isotropically as described in Section 6.1. This process repeats, simulating the stochastic nature of neutron motion through a scattering medium.\n",
    "\n",
    "Note: at this stage we are ignoring absorption, and just focusing on the scattering of the neutrons for a set number of paths."
   ]
  },
  {
   "cell_type": "code",
   "execution_count": null,
   "id": "8884946d",
   "metadata": {},
   "outputs": [],
   "source": [
    "def random_uniform_path_length(cross_section):\n",
    "    return -np.log(np.random.uniform(0, 1)) / cross_section"
   ]
  },
  {
   "cell_type": "code",
   "execution_count": null,
   "id": "b034ef0c",
   "metadata": {},
   "outputs": [],
   "source": [
    "def random_walk(cross_section):\n",
    "    x, y, z = (0, 0, 0)\n",
    "    yield (x, y, z)\n",
    "    while True:\n",
    "        step_size = random_uniform_path_length(cross_section)\n",
    "        dx, dy, dz = generate_random_unit_vector()\n",
    "        x += step_size * dx\n",
    "        y += step_size * dy\n",
    "        z += step_size * dz\n",
    "        yield (x, y, z)\n"
   ]
  },
  {
   "cell_type": "markdown",
   "id": "cbe3b579",
   "metadata": {},
   "source": [
    "#### 6.2.1 Visualising Random Walks\n",
    "\n",
    "We now simulate neutron random walks through different materials. \n",
    "Each trajectory represents the stochastic motion of a neutron, with direction sampled isotropically and step lengths sampled from the material's exponential attenuation law."
   ]
  },
  {
   "cell_type": "code",
   "execution_count": null,
   "id": "48612f6d",
   "metadata": {},
   "outputs": [],
   "source": [
    "def visualise_random_walk(material):\n",
    "    macroscopic_cross_section= material.scattering_cross_section\n",
    "    \n",
    "    positions_iterator = random_walk(macroscopic_cross_section)\n",
    "    positions = [next(positions_iterator) for _ in range(100)]\n",
    "\n",
    "    x, y, z = zip(*positions)\n",
    "    scatter = go.Scatter3d(x=x, y=y, z=z, mode='lines', marker=dict(size=2))\n",
    "    layout = go.Layout(\n",
    "        title=f\"Random Walk in {material.name}\",\n",
    "        scene=dict(\n",
    "            xaxis=dict(title='X'),\n",
    "            yaxis=dict(title='Y'),\n",
    "            zaxis=dict(title='Z')\n",
    "        )\n",
    "    )\n",
    "    fig = go.Figure(data=[scatter], layout=layout)\n",
    "    plot(fig)\n",
    "\n",
    "visualise_random_walk(water)"
   ]
  },
  {
   "cell_type": "markdown",
   "id": "f8ea5b23",
   "metadata": {},
   "source": [
    "In water, neutrons travel relatively short distances before scattering. This is because water has a high macroscopic scattering cross section, meaning interactions are frequent and the mean free path is short. As a result, the random walk appears tightly confined.\n",
    "\n",
    "Water serves as a good benchmark for comparison with lead and graphite, which allow neutrons to travel much farther."
   ]
  },
  {
   "cell_type": "code",
   "execution_count": null,
   "id": "85acffae",
   "metadata": {},
   "outputs": [],
   "source": [
    "visualise_random_walk(lead)"
   ]
  },
  {
   "cell_type": "markdown",
   "id": "e29699ed",
   "metadata": {},
   "source": [
    "In lead, neutrons travel significantly farther than in water — roughly 10 times the distance on average."
   ]
  },
  {
   "cell_type": "code",
   "execution_count": null,
   "id": "20ed564b",
   "metadata": {},
   "outputs": [],
   "source": [
    "visualise_random_walk(graphite)"
   ]
  },
  {
   "cell_type": "markdown",
   "id": "a86c5458",
   "metadata": {},
   "source": [
    "Neutrons travel even farther in graphite — approximately 2.5 times farther than in lead. This results in extremely long, sparse random walks."
   ]
  },
  {
   "cell_type": "markdown",
   "id": "19dc2320",
   "metadata": {},
   "source": [
    "### Summary\n",
    "\n",
    "The extent of each neutron’s random walk depends directly on the mean free path, which is inversely related to the material’s macroscopic scattering cross section. Water has the shortest mean free path, while graphite has the longest in this set — leading to progressively more extended trajectories from water to lead to graphite.\n",
    "\n",
    "This ordering aligns with theoretical expectations. The mean free path is inversely proportional to the likelihood of scattering, governed by the material’s macroscopic scattering cross section. Water, being hydrogen-rich, has a high number density of effective scatterers, leading to frequent collisions. Lead, despite its high mass density, has a relatively low number density of scattering centres and a smaller cross section for neutrons, resulting in fewer interactions. Graphite, with its light nuclei and sparse structure, allows neutrons to travel the farthest between collisions."
   ]
  },
  {
   "cell_type": "markdown",
   "id": "21e322ec",
   "metadata": {},
   "source": [
    "---\n",
    "\n",
    "### 6.3 Visualising Neutron Random Walks in a Slab\n",
    "\n",
    "We now simulate neutron random walks through a finite slab of material. \n",
    "Each slab is placed between two planes located at $x = 0$ and $x = L$, where $L$ is the slab thickness. \n",
    "\n",
    "Initially, neutrons are fired **perpendicularly into the slab** from the left boundary at $x = 0$, moving along the positive $x$-axis. \n",
    "Each neutron then undergoes a stochastic random walk within the slab:\n",
    "- The step size is sampled from the same exponential distribution used in Section 6.2, with mean free path $\\lambda$ determined by the material's macroscopic cross-section.\n",
    "- After each step, the neutron's new position is updated by moving along a randomly generated isotropic unit vector.\n",
    "\n",
    "At each step, we determine whether the neutron:\n",
    "- **Is absorbed** within the slab (random survival check against absorption probability),\n",
    "- **Scatters** and continues walking within the slab,\n",
    "- **Escapes** by crossing beyond the slab boundaries (either $x < 0$ or $x > L$).\n",
    "\n",
    "The random walk terminates if the neutron is absorbed or escapes.\n",
    "We visualise individual neutron trajectories through the slab for different materials, illustrating the stochastic scattering and absorption behaviour in each case.\n",
    "\n",
    "The simple `random_walk` function is now replaced with a version that takes a slab of material and performs a full walk until an end condition (escape or absorb) is met."
   ]
  },
  {
   "cell_type": "code",
   "execution_count": null,
   "id": "022377bb",
   "metadata": {},
   "outputs": [],
   "source": [
    "def random_walk(slab):\n",
    "    result = []\n",
    "    x, y, z = (0, 0, 0)\n",
    "    result.append((x, y, z))\n",
    "    dx, dy, dz = (1, 0, 0)  # Initial direction\n",
    "    while True:\n",
    "        step_size = random_uniform_path_length(slab.material.total_cross_section)\n",
    "        x += step_size * dx\n",
    "        y += step_size * dy\n",
    "        z += step_size * dz\n",
    "        if x > slab.width:\n",
    "            return \"Transmitted\", result\n",
    "        elif x < 0:\n",
    "            return \"Reflected\", result\n",
    "        elif np.random.uniform(0, 1) < slab.material.absorption_probability:\n",
    "            return \"Absorbed\", result\n",
    "        else:\n",
    "            # Scattering occurs\n",
    "            dx, dy, dz = generate_random_unit_vector()\n",
    "        result.append((x, y, z))"
   ]
  },
  {
   "cell_type": "markdown",
   "id": "be86a7f2",
   "metadata": {},
   "source": [
    "`visualise_random_walks` plots the requested number of random walks through a given slab of material, colour coding them with the fate of the walk (Transmitted, Reflected, or Absorbed).\n",
    "\n",
    "Note: each walk is written on the plot as a separate 3D scatter so some adjustments are made to reduce clutter in the legend to only show a record for the first walk of each fate."
   ]
  },
  {
   "cell_type": "code",
   "execution_count": null,
   "id": "02252502",
   "metadata": {},
   "outputs": [],
   "source": [
    "def visualise_random_walks(slab, number_of_neutrons):\n",
    "    walks = [ random_walk(slab) for _ in range(number_of_neutrons) ]\n",
    "\n",
    "    layout = go.Layout(\n",
    "        scene=dict(\n",
    "            xaxis=dict(title='X'),\n",
    "            yaxis=dict(title='Y'),\n",
    "            zaxis=dict(title='Z')\n",
    "        )\n",
    "    )\n",
    "\n",
    "    show_legend = {\n",
    "        \"Transmitted\": True,\n",
    "        \"Reflected\": True,\n",
    "        \"Absorbed\": True\n",
    "    }\n",
    "    colours = {\n",
    "        \"Transmitted\": \"blue\",\n",
    "        \"Reflected\": \"red\",\n",
    "        \"Absorbed\": \"green\"\n",
    "    }\n",
    "    fate_counts = Counter([walk[0] for walk in walks])\n",
    "\n",
    "    def walk_to_scatter(walk):\n",
    "        x, y, z = zip(*walk[1])\n",
    "        showlegend = show_legend[walk[0]]\n",
    "        show_legend[walk[0]] = False # only show the legend for the first walk of each type\n",
    "        return go.Scatter3d(\n",
    "            x=x,\n",
    "            y=y,\n",
    "            z=z,\n",
    "            mode='markers+lines',\n",
    "            marker=dict(size=2),\n",
    "            name=f'{walk[0]} ({fate_counts[walk[0]]})',\n",
    "            line=dict(color=colours[walk[0]]),\n",
    "            showlegend=showlegend)\n",
    "    \n",
    "    fig = go.Figure(data=[walk_to_scatter(walk) for walk in walks], layout=layout)\n",
    "    fig.update_layout(\n",
    "        title=f\"Random Walk in {slab.material.name}\"\n",
    "    )\n",
    "    plot(fig)\n",
    "\n",
    "visualise_random_walks(Slab(water, 4), 30)\n"
   ]
  },
  {
   "cell_type": "markdown",
   "id": "98473789",
   "metadata": {},
   "source": [
    "### 6.4 Quantifying Neutron Scattering, Absorption, and Transmission\n",
    "\n",
    "We now quantify the outcomes of neutron interactions with the slab by simulating large numbers of random walks are recording how many neutrons are:\n",
    "- **Absorbed** within the slab,\n",
    "- **Reflected** back through the entrance at $x < 0$,\n",
    "- **Transmitted** through the far side at $x > L$.\n",
    "\n",
    "We record the number of neutrons absorbed ($N_A$), reflected ($N_R$), and transmitted ($N_T$), and compute the corresponding rates:\n",
    "\n",
    "$$\\text{Absorption Rate} = \\frac{N_A}{N}, \\quad \\text{Reflection Rate} = \\frac{N_R}{N}, \\quad \\text{Transmission Rate} = \\frac{N_T}{N}$$\n",
    "\n",
    "To ensure our results are statistically robust, we repeat the simulation multiple times and compute the **mean and standard deviation** of the transmission, reflection, and absorption probabilities."
   ]
  },
  {
   "cell_type": "markdown",
   "id": "bffa2022",
   "metadata": {},
   "source": [
    "`random_walks` performs multiple neutron random walk simulations through a specified slab of material. It returns a list of individual walk outcomes by repeatedly calling the `random_walk` function the requested number of times."
   ]
  },
  {
   "cell_type": "code",
   "execution_count": null,
   "id": "d665e665",
   "metadata": {},
   "outputs": [],
   "source": [
    "def random_walks(slab, counts):\n",
    "    return [random_walk(slab) for _ in range(counts)]"
   ]
  },
  {
   "cell_type": "markdown",
   "id": "ea14b1a9",
   "metadata": {},
   "source": [
    "`count_fates` simulates a given number of random walks through a slab and returns a count of how many neutrons were transmitted, reflected, or absorbed. It uses the `Counter` class to tally the first element of each walk result, which encodes the neutron's final fate."
   ]
  },
  {
   "cell_type": "code",
   "execution_count": null,
   "id": "92338233",
   "metadata": {},
   "outputs": [],
   "source": [
    "def count_fates(slab, counts):\n",
    "    return Counter([walk[0] for walk in random_walks(slab, counts)])"
   ]
  },
  {
   "cell_type": "markdown",
   "id": "0c89191d",
   "metadata": {},
   "source": [
    "`aggregate_trials` processes the results of multiple random walk trials and computes the mean and standard deviation of each fate type (Transmitted, Reflected, or Absorbed). It returns the estimated probability and associated uncertainty for each fate by averaging across trials and normalising by the number of neutrons simulated per trial."
   ]
  },
  {
   "cell_type": "code",
   "execution_count": null,
   "id": "3997a0ca",
   "metadata": {},
   "outputs": [],
   "source": [
    "def aggregate_trials(trial_results, number_of_neutrons):\n",
    "    fates = { }\n",
    "    for run in trial_results: \n",
    "        for fate in run:\n",
    "            if fate not in fates:\n",
    "                fates[fate] = []\n",
    "            fates[fate].append(run[fate])\n",
    "    for fate in fates:\n",
    "        probability = np.mean(fates[fate]) / number_of_neutrons\n",
    "        error = np.std(fates[fate]) / number_of_neutrons\n",
    "        yield fate, probability, error"
   ]
  },
  {
   "cell_type": "markdown",
   "id": "b6c89bfa",
   "metadata": {},
   "source": [
    "`quantify_random_walk` estimates the probabilities of transmission, reflection, and absorption by performing multiple trials of random walk simulations through a given slab. Each trial simulates a fixed number of neutrons, and the aggregated results are processed to return the mean probability and uncertainty for each fate."
   ]
  },
  {
   "cell_type": "code",
   "execution_count": null,
   "id": "7c06f7a4",
   "metadata": {},
   "outputs": [],
   "source": [
    "def quantify_random_walk(slab, number_of_neutrons, trials):\n",
    "    runs = [count_fates(slab, number_of_neutrons) for _ in range(trials)]\n",
    "    return aggregate_trials(runs, number_of_neutrons)"
   ]
  },
  {
   "cell_type": "markdown",
   "id": "fbea432b",
   "metadata": {},
   "source": [
    "`show_quantified_random_walk` visualises the outcomes of random walk simulations for one or more slab configurations. For each slab, it estimates the transmission, reflection, and absorption rates using multiple trials and displays the results as a grouped bar chart, with error bars representing the uncertainty in each fate percentage. We then call this function passing 10cm of each of the three materials."
   ]
  },
  {
   "cell_type": "code",
   "execution_count": null,
   "id": "1bc69e43",
   "metadata": {},
   "outputs": [],
   "source": [
    "\n",
    "def show_quantified_random_walk(slabs, number_of_neutrons, trials):\n",
    "    fig = go.Figure()\n",
    "    for slab in slabs:\n",
    "        fates = quantify_random_walk(slab, number_of_neutrons, trials)\n",
    "        fates = list(fates)\n",
    "        fates = sorted(fates, key=lambda x: x[0])\n",
    "        fates = [(fate[0], fate[1] * 100, fate[2] * 100) for fate in fates]\n",
    "        fates = [(fate[0], fate[1], fate[2]) for fate in fates if fate[1] > 0.01]\n",
    "\n",
    "        fig.add_trace(go.Bar(\n",
    "            x=[fate[0] for fate in fates],\n",
    "            y=[fate[1] for fate in fates],\n",
    "            name=f\"{slab.material.name} ({slab.width} cm)\",\n",
    "            error_y=dict(type='data', array=[fate[2] for fate in fates])\n",
    "        ))\n",
    "\n",
    "    fig.update_layout(\n",
    "        title=\"Quantified Random Walk Results\",\n",
    "        xaxis_title=\"Fate\",\n",
    "        yaxis_title=\"Rate (%)\",\n",
    "        barmode='group',\n",
    "        legend=dict(x=0.68, y=0.98),\n",
    "        yaxis=dict(range=[0, 100])\n",
    "    )\n",
    "    plot(fig)\n",
    "\n",
    "show_quantified_random_walk([Slab(water, 10), Slab(graphite, 10), Slab(lead, 10)], number_of_neutrons=1000, trials=10)"
   ]
  },
  {
   "cell_type": "markdown",
   "id": "0cb9935f",
   "metadata": {},
   "source": [
    "The results for 1000 neutrons are shown above. The majority of the neutrons are reflected in all materials, which is expected given the relatively large thickness of the slabs (10 cm).\n",
    "\n",
    "Graphite in particular shows how the relatively low absorption cross section and long mean free path lengths translate into very few neutrons being absorbed."
   ]
  },
  {
   "cell_type": "markdown",
   "id": "cf1a52d7",
   "metadata": {},
   "source": [
    "### 6.5 Variation of Neutron Interaction Rates with Slab Thickness\n",
    "\n",
    "To analyse how neutron behaviour varies with slab thickness $L$, we perform repeated random walk simulations for a range of thicknesses. For each slab thickness, the absorption, reflection, and transmission rates are computed as before.\n",
    "\n",
    "#### Error-Based Convergence\n",
    "\n",
    "Rather than fixing the number of simulation batches in advance, we continue running batches of simulations **until the standard deviation of each outcome falls below a target threshold** (we have chosen 0.03 as a good tradeoff between accuracy and computation time). This ensures we adaptively allocate more computation only where necessary, such as around the critical transition regions where transmission probabilities drop off sharply.\n",
    "\n",
    "This approach allows us to maintain statistical accuracy **without wasting computation** on slabs that already give stable results.\n",
    "\n",
    "#### Performance Tuning\n",
    "\n",
    "- The `trials` parameter controls the number of independent simulations per batch (default is 10).\n",
    "- The `batch_size` parameter controls how often convergence is checked. We typically use a small value (e.g. 5), since the **random walk simulation dominates runtime**, and large batches could overshoot the desired accuracy. Smaller batches allow earlier convergence detection.\n",
    "- On slower machines, you can raise the target error (e.g. from 0.03 to 0.05) or reduce the number of steps to improve speed, at the cost of increased uncertainty.\n",
    "\n",
    "#### Attenuation Length Estimation\n",
    "\n",
    "To estimate the attenuation length $\\lambda$, we focus on the transmission rate as a function of slab thickness. According to theory, the transmission should decay exponentially:\n",
    "\n",
    "$$T(x) = \\exp\\left(-\\frac{x}{\\lambda}\\right)$$\n",
    "\n",
    "We transform this into a linear function:\n",
    "\n",
    "$$\\ln T(x) = -\\frac{x}{\\lambda} + \\ln T_0$$\n",
    "\n",
    "This allows us to perform a **weighted linear regression** (not a nonlinear curve fit) on the logarithm of the transmission values, using the standard deviation of each point as the fitting weight.\n",
    "\n",
    "From the fitted slope $m$, we compute the attenuation length:\n",
    "\n",
    "$$\\lambda = -\\frac{1}{m}, \\quad \\sigma_\\lambda = \\frac{\\sigma_m}{m^2}$$\n",
    "\n",
    "Where $\\sigma_m$ is the standard error in the fitted slope. This method ensures a consistent and statistically grounded estimation of attenuation behaviour across all materials.\n"
   ]
  },
  {
   "cell_type": "code",
   "execution_count": null,
   "id": "f4f6e46c",
   "metadata": {},
   "outputs": [],
   "source": [
    "def plot_width_vs_fates(trials, steps, materials, target_error, batch_size):\n",
    "    for material, max_width in materials:\n",
    "        widths = np.linspace(0, max_width, steps)\n",
    "        data = {}\n",
    "\n",
    "        for width in widths:\n",
    "            fate_counts = [Counter() for _ in range(trials)]\n",
    "            runs = 0\n",
    "            converged = False\n",
    "\n",
    "            while not converged and runs < 10_000:\n",
    "                for _ in range(batch_size):\n",
    "                    batch = [random_walk(Slab(material, width)) for _ in range(trials)]\n",
    "                    for i, (fate_name, _) in enumerate(batch):\n",
    "                        fate_counts[i][fate_name] += 1\n",
    "                    runs += 1\n",
    "\n",
    "                all_fates = sorted({f for fc in fate_counts for f in fc})\n",
    "                converged = True\n",
    "                for fate in all_fates:\n",
    "                    proportions = [fc.get(fate, 0) / runs for fc in fate_counts]\n",
    "                    std = np.std(proportions)\n",
    "                    if std >= target_error or runs == 1:\n",
    "                        converged = False\n",
    "                        break\n",
    "\n",
    "            for fate in all_fates:\n",
    "                proportions = [fc.get(fate, 0) / runs for fc in fate_counts]\n",
    "                mean = np.mean(proportions)\n",
    "                std = np.std(proportions)\n",
    "\n",
    "                if fate not in data:\n",
    "                    data[fate] = []\n",
    "                data[fate].append((width, mean, std))\n",
    "\n",
    "        # Create two subplots: one for fate probabilities, one for the exponential fit\n",
    "        fig = make_subplots(\n",
    "            rows=1, cols=2,\n",
    "            specs=[[{'type': 'xy'}, {'type': 'xy'}]],\n",
    "            subplot_titles=(\n",
    "                f\"Fate Probabilities for {material.name}\",\n",
    "                f\"Transmission Fit for {material.name}\"\n",
    "            )\n",
    "        )\n",
    "\n",
    "        # Left subplot: Fate probabilities (with error bars)\n",
    "        for fate_name in sorted(data):\n",
    "            x, y, error = zip(*data[fate_name])\n",
    "            fig.add_trace(go.Scatter(\n",
    "                x=x, y=y, mode='markers',\n",
    "                name=f\"{material.name} {fate_name}\",\n",
    "                error_y=dict(type='data', array=error, visible=True)\n",
    "            ), row=1, col=1)\n",
    "\n",
    "        # Right subplot: Logarithmic transmission fit\n",
    "\n",
    "        # Extract transmission data and fit a line to log-transformed values\n",
    "        transmitted_widths, transmitted_counts, transmitted_errors = zip(*data[\"Transmitted\"])\n",
    "        x = np.array(transmitted_widths)\n",
    "        y = np.array(transmitted_counts)\n",
    "        y_err = np.array(transmitted_errors)\n",
    "        log_y = np.log(y)\n",
    "        log_y_err = y_err / y\n",
    "\n",
    "        # Fit line: log(T) = -x / λ + log(T₀)\n",
    "        slope, intercept, slope_err, intercept_err = transform_and_fit(x, y, y_err)[3:]\n",
    "\n",
    "        # Add log-transformed data with error bars\n",
    "        fig.add_trace(go.Scatter(\n",
    "            x=x,\n",
    "            y=log_y,\n",
    "            mode='markers',\n",
    "            name=\"Log Transmission\",\n",
    "            error_y=dict(type='data', array=log_y_err, visible=True)\n",
    "        ), row=1, col=2)\n",
    "\n",
    "        # Add fitted line to right subplot\n",
    "        fitted_log_y = slope * x + intercept\n",
    "        fig.add_trace(go.Scatter(\n",
    "            x=x,\n",
    "            y=fitted_log_y,\n",
    "            mode='lines',\n",
    "            name=\"Linear fitted transmission probability\"\n",
    "        ), row=1, col=2)\n",
    "\n",
    "        # Compute and overlay theoretical curve on left subplot\n",
    "        attenuation_length = -1 / slope\n",
    "        attenuation_length_error = slope_err / (slope ** 2)\n",
    "\n",
    "        theoretical_x = np.linspace(0, max_width, 1000)\n",
    "        theoretical_y = np.exp(-theoretical_x / attenuation_length)\n",
    "        fig.add_trace(go.Scatter(\n",
    "            x=theoretical_x,\n",
    "            y=theoretical_y,\n",
    "            mode='lines',\n",
    "            name=f\"Exponential fitted transmission probability\"\n",
    "        ), row=1, col=1)\n",
    "\n",
    "        # Vertical line at attenuation length (left subplot)\n",
    "        fig.add_trace(go.Scatter(\n",
    "            x=[attenuation_length, attenuation_length],\n",
    "            y=[0, 1],\n",
    "            mode='lines',\n",
    "            line=dict(color='red', dash='dash'),\n",
    "            showlegend=False\n",
    "        ), row=1, col=1)\n",
    "\n",
    "        # Annotation with attenuation length (right subplot)\n",
    "        fig.add_annotation(\n",
    "            x=attenuation_length,\n",
    "            y=0.8,\n",
    "            text=f\"λ = {format_appropriate(attenuation_length, attenuation_length_error, latex=False)}\",\n",
    "            showarrow=True,\n",
    "            arrowhead=2,\n",
    "            ax=-110,\n",
    "            ay=-40,\n",
    "            row=1, col=1\n",
    "        )\n",
    "\n",
    "        # Shared layout\n",
    "        fig.update_layout(\n",
    "            width=1100,\n",
    "            height=500,\n",
    "            margin=dict(r=100),\n",
    "            legend=dict(x=1.05, y=1),\n",
    "            title=f\"Neutron Fate Breakdown and Transmission Fit — {material.name}\"\n",
    "        )\n",
    "\n",
    "        plot(fig, figures=2)\n",
    "\n",
    "plot_width_vs_fates(trials=10, steps=30, materials=[(water, 1), (lead, 10), (graphite, 10)], target_error=0.03, batch_size=5)"
   ]
  },
  {
   "cell_type": "markdown",
   "id": "4a4bd0e9",
   "metadata": {},
   "source": [
    "While the theoretical model assumes that neutron transmission through a material decreases exponentially with thickness, our simulation reveals a subtle but consistent deviation from this idealised behaviour. When plotting the number of transmitted particles as a function of material thickness, the observed data does not follow a perfect exponential trend — particularly at larger thicknesses.\n",
    "\n",
    "This deviation is small but measurable, and suggests that the ideal exponential model does not fully capture the behaviour of our stochastic simulation. The precise cause of this discrepancy is unclear, but it is likely related to the cumulative effects of random walk geometry, absorption probabilities, and simulation boundary conditions.\n",
    "\n",
    "Importantly, if the exponential fit is restricted to slab thicknesses near or below the attenuation length, the agreement with theory improves significantly. This approach yields a more reliable estimate of the attenuation length and demonstrates the value of localised fitting in complex stochastic systems.\n"
   ]
  },
  {
   "cell_type": "code",
   "execution_count": null,
   "id": "ebca314b",
   "metadata": {},
   "outputs": [],
   "source": [
    "print_markdown(f\"Execution time: ${time.time() - start:.2f}$ s\")"
   ]
  },
  {
   "cell_type": "markdown",
   "id": "c58b8d79",
   "metadata": {},
   "source": [
    "\n",
    "---\n",
    "\n",
    "## 7. Simulating Transmission Through Adjacent Slabs Using the Woodcock Method\n",
    "\n",
    "In this extension task, we apply the **Woodcock method** (also known as delta-tracking) to simulate neutron transmission through multiple adjacent slabs composed of different materials.\n",
    "\n",
    "Neutrons are fired perpendicularly into the slabs at $x = 0$ and undergo stochastic random walks based on the Woodcock sampling method.\n",
    "\n",
    "### Application of the Woodcock Method\n",
    "\n",
    "First, we compare the **total macroscopic cross-sections** of the materials and identify the maximum value, $\\Sigma_{\\text{max}}$. This value is used for sampling step lengths throughout the entire simulation, ensuring uniform handling of different materials.\n",
    "\n",
    "At each step:\n",
    "- A random step length is drawn from an exponential distribution based on $\\Sigma_{\\text{max}}$.\n",
    "- The neutron moves along a randomly generated isotropic direction.\n",
    "\n",
    "After each step:\n",
    "  - A uniform random number between 0 and 1 is generated.\n",
    "  - If the random number is **less than** the **acceptance probability** (defined as $\\Sigma_{\\text{material}} / \\Sigma_{\\text{max}}$), the interaction is considered **real**.\n",
    "    - In this case, we proceed to determine whether the neutron is absorbed, transmitted, or reflected.\n",
    "  - If the random number is **greater than** the acceptance probability, the interaction is treated as a **virtual collision**.\n",
    "    - No physical interaction (absorption or scattering) occurs.\n",
    "    - The neutron simply continues with a new random step.\n",
    "\n",
    "- If the neutron is in the most dense material in the supplied slabs (i.e., $\\Sigma = \\Sigma_{\\text{max}}$), every interaction is automatically accepted without rejection sampling due to the probability of the collision being real `p_real` having the value 1.\n",
    "\n",
    "Boundary conditions are handled as follows:\n",
    "- If the neutron moves beyond $x > 2L$, it is considered **transmitted**.\n",
    "- If it moves back through $x < 0$, it is considered **reflected**.\n",
    "- If it undergoes a real collision inside the slab, absorption or scattering is determined based on the material properties.\n",
    "\n",
    "This approach allows efficient and unbiased simulation of neutron transport through inhomogeneous materials with different cross-sections."
   ]
  },
  {
   "cell_type": "code",
   "execution_count": null,
   "id": "07768ec1",
   "metadata": {},
   "outputs": [],
   "source": [
    "def random_walk_woodcock(slabs):\n",
    "    x, y, z = (0, 0, 0)\n",
    "    dx, dy, dz = (1, 0, 0)\n",
    "    path = [(x, y, z)]\n",
    "    max_cross_section = max(slab.material.total_cross_section for slab in slabs)\n",
    "    total_width = sum(slab.width for slab in slabs)\n",
    "\n",
    "    def get_slab_map():\n",
    "        x_start = 0\n",
    "        for slab in slabs:\n",
    "            x_end = x_start + slab.width\n",
    "            yield (x_start, x_end, slab.material, slab.material.total_cross_section / max_cross_section)\n",
    "            x_start = x_end\n",
    "\n",
    "    slab_positions = list(get_slab_map())\n",
    "\n",
    "    def get_material_at(x):\n",
    "        for start, end, material, p in slab_positions:\n",
    "            if start <= x < end:\n",
    "                return (material, p)\n",
    "\n",
    "    while True:\n",
    "        step_size = random_uniform_path_length(max_cross_section)\n",
    "        x_new = x + step_size * dx\n",
    "        y_new = y + step_size * dy\n",
    "        z_new = z + step_size * dz\n",
    "        x, y, z = (x_new, y_new, z_new)\n",
    "\n",
    "        if x_new < 0:\n",
    "            path.append((x,y,z))\n",
    "            return \"Reflected\", path\n",
    "        if x_new > total_width:\n",
    "            path.append((x,y,z))\n",
    "            return \"Transmitted\", path\n",
    "\n",
    "        material, p_real = get_material_at(x_new)\n",
    "        if material is None:\n",
    "            raise ValueError(\"Position out of bounds\")\n",
    "\n",
    "        if np.random.uniform(0, 1) > p_real:\n",
    "            continue\n",
    "        else:\n",
    "            if np.random.uniform(0, 1) < material.absorption_probability:\n",
    "                path.append((x,y,z))\n",
    "                return \"Absorbed\", path\n",
    "            else:\n",
    "                dx, dy, dz = generate_random_unit_vector()\n",
    "                path.append((x,y,z))"
   ]
  },
  {
   "cell_type": "code",
   "execution_count": null,
   "id": "a48b4d9c",
   "metadata": {},
   "outputs": [],
   "source": [
    "def print_fate_rates(slabs, trials):\n",
    "    counts = Counter([walk[0] for walk in [random_walk_woodcock(slabs) for _ in range(trials)]])\n",
    "\n",
    "    markdown = \"Fate | Count | Rate (%) \\n\"\n",
    "    markdown += \"--- | --- | --- \\n\"\n",
    "    for fate, count in counts.items():\n",
    "        rate = count / trials * 100\n",
    "        markdown += f\"{fate} | {count} | {rate:.2f} \\n\"\n",
    "    markdown += \"\\n\\n\"\n",
    "    print_markdown(markdown)\n",
    "\n",
    "print_fate_rates([Slab(graphite, 10), Slab(lead, 10)], 3000)"
   ]
  },
  {
   "cell_type": "markdown",
   "id": "c7d0a686",
   "metadata": {},
   "source": [
    "### 7.1 Validation of the Woodcock Method Implementation\n",
    "\n",
    "We will now run a series of tests to check that the data produced by the woodcock method produces statistically indistinguishable results when compared to eithe the simple method or an alternative woodcock. These tests taken together should provide confidence the logic is correct.\n",
    "\n",
    "First we create a helper function `print_fate_rate_comparison` to produce these comparisons, given two tests."
   ]
  },
  {
   "cell_type": "code",
   "execution_count": null,
   "id": "ee5c3333",
   "metadata": {},
   "outputs": [],
   "source": [
    "def print_fate_rate_comparison(walk_func1, walk_func2, number_of_neutrons, trials):\n",
    "    runs1 = [Counter([walk_func1()[0] for _ in range(number_of_neutrons)]) for _ in range(trials)]\n",
    "    runs2= [Counter([walk_func2()[0] for _ in range(number_of_neutrons)]) for _ in range(trials)]\n",
    "    fates1 = list(aggregate_trials(runs1, number_of_neutrons))\n",
    "    fates2 = list(aggregate_trials(runs2, number_of_neutrons))\n",
    "\n",
    "    all_fates = sorted(set([fate for fate, _, _ in fates1]) | set([fate for fate, _, _ in fates2]))\n",
    "\n",
    "    markdown = (\n",
    "        \"| Fate | Trial A Rate (%) ± Error | Trial B Rate (%) ± Error | Δ (%) | Combined Error | Δ / σ |\\n\"\n",
    "        \"|------|---------------------------|---------------------------|--------|----------------|--------|\\n\"\n",
    "    )\n",
    "\n",
    "    def get_stats(fate, fates):\n",
    "        for current_fate, probability, error in fates:\n",
    "            if fate == current_fate:\n",
    "                return probability, error\n",
    "        return 0, 0\n",
    "\n",
    "    for fate in all_fates:\n",
    "        probability1, error1 = get_stats(fate, fates1)\n",
    "        probability2, error2 = get_stats(fate, fates2)\n",
    "        probability1, error1, probability2, error2 = probability1 * 100, error1 * 100, probability2 * 100, error2 * 100\n",
    "\n",
    "        diff = abs(probability1 - probability2)\n",
    "        combined_error = np.sqrt(error1**2 + error2**2)\n",
    "        z_score = diff / combined_error if combined_error != 0 else float('inf')\n",
    "\n",
    "        markdown += (\n",
    "            f\"{fate} | {format_appropriate(probability1, error1)} | {format_appropriate(probability2, error2)} | \"\n",
    "            f\"{diff:.2f} | {combined_error:.2f} | {z_score:.2f} |\\n\"\n",
    "        )\n",
    "\n",
    "    print_markdown(markdown)"
   ]
  },
  {
   "cell_type": "markdown",
   "id": "08184bd5",
   "metadata": {},
   "source": [
    "#### Split-Slab Equivalence Test\n",
    "\n",
    "A slab of 5 cm of a material followed by another 5 cm of the same material should be statistically indistinguishable from a single 10 cm slab of that material.\n",
    "\n",
    "This test compares Woodcock tracking on two 5 cm slabs against simple random walk on one 10 cm slab.\n",
    "\n",
    "The results below validate that the Woodcock method does not introduce artefacts due to boundary crossings."
   ]
  },
  {
   "cell_type": "code",
   "execution_count": null,
   "id": "9bcaddff",
   "metadata": {},
   "outputs": [],
   "source": [
    "print_fate_rate_comparison(\n",
    "    lambda: random_walk_woodcock([Slab(water, 3), Slab(water, 3)]),\n",
    "    lambda: random_walk(Slab(water, 6)),\n",
    "    number_of_neutrons=500,\n",
    "    trials=5\n",
    ")"
   ]
  },
  {
   "cell_type": "markdown",
   "id": "1ab3925b",
   "metadata": {},
   "source": [
    "#### Split vs Single Slab (Same Method)\n",
    "\n",
    "This test verifies that two consecutive 3 cm slabs of water produce statistically indistinguishable results from a single 6 cm slab, **using the same Woodcock tracking method** in both cases.\n",
    "\n",
    "Since the material and total thickness are identical, any differences would indicate that the simulation is sensitive to artificial slab boundaries — which should not be the case.\n",
    "\n",
    "The results below confirm that the Woodcock method maintains consistency across slab segmentation.\n"
   ]
  },
  {
   "cell_type": "code",
   "execution_count": null,
   "id": "eb847279",
   "metadata": {},
   "outputs": [],
   "source": [
    "print_fate_rate_comparison(\n",
    "    lambda: random_walk_woodcock([Slab(water, 3), Slab(water, 3)]),\n",
    "    lambda: random_walk_woodcock([Slab(water, 6)]),\n",
    "    number_of_neutrons=500,\n",
    "    trials=5\n",
    ")"
   ]
  },
  {
   "cell_type": "markdown",
   "id": "a9ef4ab7",
   "metadata": {},
   "source": [
    "#### Woodcock vs simple (Same Geometry)\n",
    "\n",
    "This test compares the fate statistics for a 10 cm water slab using both Woodcock and the simple random walk.\n",
    "\n",
    "Identical geometry and material ensure that any difference arises purely from the tracking method itself. Close agreement validates the correctness of the Woodcock implementation."
   ]
  },
  {
   "cell_type": "code",
   "execution_count": null,
   "id": "74966882",
   "metadata": {},
   "outputs": [],
   "source": [
    "print_fate_rate_comparison(\n",
    "    lambda: random_walk_woodcock([Slab(water, 6)]),\n",
    "    lambda: random_walk(Slab(water, 6)),\n",
    "    number_of_neutrons=500,\n",
    "    trials=5\n",
    ")"
   ]
  },
  {
   "cell_type": "markdown",
   "id": "7a4f85d2",
   "metadata": {},
   "source": [
    "#### Vacuum Sandwich Test\n",
    "\n",
    "This test validates that inserting a vacuum layer between two slabs of identical material does not alter the final outcome.\n",
    "\n",
    "Physically, a vacuum introduces no scattering or absorption, and should not impact the overall transmission, reflection, or absorption rates.\n",
    "\n",
    "The test compares 5 cm water + 5 cm vacuum + 5 cm water against a single 10 cm water slab using Woodcock tracking throughout."
   ]
  },
  {
   "cell_type": "code",
   "execution_count": null,
   "id": "ff79ac16",
   "metadata": {},
   "outputs": [],
   "source": [
    "vacuum = Material(\"Vacuum\", 0, 0)\n",
    "\n",
    "print_fate_rate_comparison(\n",
    "    lambda: random_walk_woodcock([Slab(water, 3), Slab(vacuum, 5), Slab(water, 3)]),\n",
    "    lambda: random_walk_woodcock([Slab(water, 6)]),\n",
    "    number_of_neutrons=500,\n",
    "    trials=5\n",
    ")"
   ]
  },
  {
   "cell_type": "markdown",
   "id": "e14af772",
   "metadata": {},
   "source": [
    "From the results, not every test was within 1 standard deviation, but we wouldn't expect them to be and increasing the number of trails, although computationally expensive, does show good agreement. These tests give us confidence that the implemented Woodcock method does have many qualities we would expect it to have, and gives consistent results in the cases we can test."
   ]
  },
  {
   "cell_type": "code",
   "execution_count": null,
   "id": "51c24634",
   "metadata": {},
   "outputs": [],
   "source": [
    "print_markdown(f\"Execution time: ${time.time() - start:.2f}$ s\")"
   ]
  }
 ],
 "metadata": {
  "kernelspec": {
   "display_name": "base",
   "language": "python",
   "name": "python3"
  },
  "language_info": {
   "codemirror_mode": {
    "name": "ipython",
    "version": 3
   },
   "file_extension": ".py",
   "mimetype": "text/x-python",
   "name": "python",
   "nbconvert_exporter": "python",
   "pygments_lexer": "ipython3",
   "version": "3.11.5"
  }
 },
 "nbformat": 4,
 "nbformat_minor": 5
}
